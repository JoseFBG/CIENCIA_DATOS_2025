{
  "nbformat": 4,
  "nbformat_minor": 0,
  "metadata": {
    "colab": {
      "provenance": [],
      "authorship_tag": "ABX9TyO60tPy91fGtqDeIJvvxrfp",
      "include_colab_link": true
    },
    "kernelspec": {
      "name": "python3",
      "display_name": "Python 3"
    },
    "language_info": {
      "name": "python"
    }
  },
  "cells": [
    {
      "cell_type": "markdown",
      "metadata": {
        "id": "view-in-github",
        "colab_type": "text"
      },
      "source": [
        "<a href=\"https://colab.research.google.com/github/JoseFBG/CIENCIA_DATOS_2025/blob/main/lambda.ipynb\" target=\"_parent\"><img src=\"https://colab.research.google.com/assets/colab-badge.svg\" alt=\"Open In Colab\"/></a>"
      ]
    },
    {
      "cell_type": "code",
      "execution_count": null,
      "metadata": {
        "id": "VKOKmHAgIvAW"
      },
      "outputs": [],
      "source": [
        "cuadrado = lambda x: x ** 2\n"
      ]
    },
    {
      "cell_type": "code",
      "source": [
        "saludo_personalizado = lambda nombre: f\"{random.choice([\"Hola\", \"La buena\", \"Saludos\", \"Bienvenido\", \"Que se dice\", \"Ole\", \"Que se cuenta\", \"Cómo fue\", \"Tonces\", \"Que pasa perro\",\n",
        "        \"Socio\", \"Mucho gusto\", \"Qué tal\", \"Hola crack\", \"Ey\", \"Buenas tardes\", \"Buenos días\", \"Qué onda\", \"Qué hay\", \"Cómo estás\"])}, {nombre}!\""
      ],
      "metadata": {
        "id": "gqEf_DewLzmq"
      },
      "execution_count": null,
      "outputs": []
    },
    {
      "cell_type": "code",
      "source": [
        "operaciones_basicas = lambda a, b: (\n",
        "    a + b,\n",
        "    a - b,\n",
        "    a * b,\n",
        "    a / b if b != 0 else \"División por cero no permitida\")"
      ],
      "metadata": {
        "id": "VXGz_WHXMUFh"
      },
      "execution_count": null,
      "outputs": []
    },
    {
      "cell_type": "code",
      "source": [
        "es_mayor_de_edad = lambda edad: edad >= 18\n"
      ],
      "metadata": {
        "id": "TGdNP3MyM1hx"
      },
      "execution_count": null,
      "outputs": []
    },
    {
      "cell_type": "code",
      "source": [
        "es_palindromo = lambda palabra: palabra.lower().replace(\" \", \"\") == palabra.lower().replace(\" \", \"\")[::-1]\n"
      ],
      "metadata": {
        "id": "04Q598V0NAco"
      },
      "execution_count": null,
      "outputs": []
    },
    {
      "cell_type": "code",
      "source": [
        "contar_vocales = lambda texto: sum(1 for c in texto.lower() if c in 'aeiou')\n"
      ],
      "metadata": {
        "id": "1rQ_9nirNHRI"
      },
      "execution_count": null,
      "outputs": []
    },
    {
      "cell_type": "code",
      "source": [
        "suma_lista = lambda lista: sum(lista)"
      ],
      "metadata": {
        "id": "o_f_YqMZNH0h"
      },
      "execution_count": null,
      "outputs": []
    },
    {
      "cell_type": "code",
      "source": [
        "mayor_y_menor = lambda lista: (max(lista), min(lista)) if lista else (None, None)\n"
      ],
      "metadata": {
        "id": "SctG5KpdNJgQ"
      },
      "execution_count": null,
      "outputs": []
    },
    {
      "cell_type": "code",
      "source": [
        "invertir_lista = lambda lista: lista[::-1]"
      ],
      "metadata": {
        "id": "mOl97ENCNLIo"
      },
      "execution_count": null,
      "outputs": []
    },
    {
      "cell_type": "code",
      "source": [
        "contar_nombres_con_vocal = lambda nombres: sum(1 for nombre in nombres if nombre and nombre[0].lower() in 'aeiou')"
      ],
      "metadata": {
        "id": "1dpF2jy6NM3w"
      },
      "execution_count": null,
      "outputs": []
    },
    {
      "cell_type": "code",
      "source": [
        "eliminar_repetidos = lambda lista: list(set(lista))"
      ],
      "metadata": {
        "id": "ja6oXrxuNOs4"
      },
      "execution_count": null,
      "outputs": []
    },
    {
      "cell_type": "code",
      "source": [
        "es_primo = lambda n: n > 1 and all(n % i != 0 for i in range(2, int(n**0.5)+1))\n",
        "obtener_primos = lambda lista: list(filter(es_primo, lista))"
      ],
      "metadata": {
        "id": "Rrt1PhE2NeZ4"
      },
      "execution_count": null,
      "outputs": []
    },
    {
      "cell_type": "code",
      "source": [
        "mensaje_persona = lambda d: f\"{d.get('nombre', 'Desconocido')} tiene {d.get('edad', 'Desconocida')} años.\""
      ],
      "metadata": {
        "id": "B9naBCP_Nf9Y"
      },
      "execution_count": null,
      "outputs": []
    },
    {
      "cell_type": "code",
      "source": [
        "total_productos = lambda productos: sum(productos.values())"
      ],
      "metadata": {
        "id": "mo0k4k-pNkhY"
      },
      "execution_count": null,
      "outputs": []
    },
    {
      "cell_type": "code",
      "source": [
        "promedio_notas = lambda estudiantes: sum(estudiantes.values()) / len(estudiantes) if estudiantes else 0"
      ],
      "metadata": {
        "id": "XjaS77ZFNmyn"
      },
      "execution_count": null,
      "outputs": []
    },
    {
      "cell_type": "code",
      "source": [
        "obtener_nota = lambda dic, nombre: dic.get(nombre, 'no encontrado')"
      ],
      "metadata": {
        "id": "zFgP9euRNoh_"
      },
      "execution_count": null,
      "outputs": []
    },
    {
      "cell_type": "code",
      "source": [
        "mejor_estudiante = lambda dic: max(dic, key=dic.get) if dic else None\n"
      ],
      "metadata": {
        "id": "a0clJqRZNp2A"
      },
      "execution_count": null,
      "outputs": []
    },
    {
      "cell_type": "code",
      "source": [
        "productos_mayores_a = lambda dic, valor: {k: v for k, v in dic.items() if v > valor}"
      ],
      "metadata": {
        "id": "-hjzlzxsNr94"
      },
      "execution_count": null,
      "outputs": []
    },
    {
      "cell_type": "code",
      "source": [
        "total_horas = lambda dic: {empleado: sum(horas) for empleado, horas in dic.items()}"
      ],
      "metadata": {
        "id": "qMrc_kadNt6Y"
      },
      "execution_count": null,
      "outputs": []
    },
    {
      "cell_type": "code",
      "source": [
        "promedio_mayores = lambda dic: (sum([v['nota'] for v in dic.values() if v.get('edad', 0) >= 18]) /\n",
        "    len([v for v in dic.values() if v.get('edad', 0) >= 18])\n",
        "    if any(v.get('edad', 0) >= 18 for v in dic.values()) else 0)"
      ],
      "metadata": {
        "id": "AC8wGdfsNvoX"
      },
      "execution_count": null,
      "outputs": []
    }
  ]
}