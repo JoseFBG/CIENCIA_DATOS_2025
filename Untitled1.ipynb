{
  "nbformat": 4,
  "nbformat_minor": 0,
  "metadata": {
    "colab": {
      "provenance": [],
      "authorship_tag": "ABX9TyNcVNQ+h94qm14gBtRTmvW+",
      "include_colab_link": true
    },
    "kernelspec": {
      "name": "python3",
      "display_name": "Python 3"
    },
    "language_info": {
      "name": "python"
    }
  },
  "cells": [
    {
      "cell_type": "markdown",
      "metadata": {
        "id": "view-in-github",
        "colab_type": "text"
      },
      "source": [
        "<a href=\"https://colab.research.google.com/github/JoseFBG/CIENCIA_DATOS_2025/blob/main/Untitled1.ipynb\" target=\"_parent\"><img src=\"https://colab.research.google.com/assets/colab-badge.svg\" alt=\"Open In Colab\"/></a>"
      ]
    },
    {
      "cell_type": "code",
      "execution_count": null,
      "metadata": {
        "id": "dp2Jq5lLCPo3"
      },
      "outputs": [],
      "source": [
        "# 1. Retorna el cuadrado de un número\n",
        "def cuadrado(numero):\n",
        "    return numero ** 2"
      ]
    },
    {
      "cell_type": "code",
      "source": [
        "# 2. Saludo personalizado con opción aleatoria\n",
        "def saludo_personalizado(nombre):\n",
        "    saludos = [\n",
        "        \"Hola\", \"La buena\", \"¡Saludos\", \"¡Bienvenido\", \"Que se dice\",\n",
        "        \"Ole\", \"Que se cuenta\", \"Cómo fue\", \"Tonces\", \"Que pasa perro\",\n",
        "        \"Socio\", \"Mucho gusto\", \"Qué tal\", \"Hola crack\", \"Ey\",\n",
        "        \"Buenas tardes\", \"Buenos días\", \"Qué onda\", \"Qué hay\", \"Cómo estás\"\n",
        "    ]\n",
        "    saludo = random.choice(saludos)\n",
        "    return f\"{saludo}, {nombre}!\""
      ],
      "metadata": {
        "id": "3di-qKKTDntw"
      },
      "execution_count": null,
      "outputs": []
    },
    {
      "cell_type": "code",
      "source": [
        "def operaciones_basicas(a, b):\n",
        "    suma = a + b\n",
        "    resta = a - b\n",
        "    multiplicacion = a * b\n",
        "    division = a / b if b != 0 else \"División por cero no permitida\"\n",
        "    return suma, resta, multiplicacion, division"
      ],
      "metadata": {
        "id": "0cwPKH_vE2_m"
      },
      "execution_count": null,
      "outputs": []
    },
    {
      "cell_type": "code",
      "source": [
        "def es_mayor_de_edad(edad):\n",
        "    return edad >= 18"
      ],
      "metadata": {
        "id": "rcP5hrFWE8c2"
      },
      "execution_count": null,
      "outputs": []
    },
    {
      "cell_type": "code",
      "source": [
        "def es_palindromo(palabra):\n",
        "    palabra = palabra.lower().replace(\" \", \"\")\n",
        "    return palabra == palabra[::-1]"
      ],
      "metadata": {
        "id": "pCJvRkUoE_CG"
      },
      "execution_count": null,
      "outputs": []
    },
    {
      "cell_type": "code",
      "source": [
        "def contar_vocales(texto):\n",
        "    texto = texto.lower()\n",
        "    return sum(1 for letra in texto if letra in \"aeiou\")"
      ],
      "metadata": {
        "id": "I8Pc9-rRE_wO"
      },
      "execution_count": null,
      "outputs": []
    },
    {
      "cell_type": "code",
      "source": [
        "def suma_lista(numeros):\n",
        "    return sum(numeros)"
      ],
      "metadata": {
        "id": "Cn4wRg19FCY9"
      },
      "execution_count": null,
      "outputs": []
    },
    {
      "cell_type": "code",
      "source": [
        "def mayor_y_menor(lista):\n",
        "    if not lista:\n",
        "        return None, None\n",
        "    return max(lista), min(lista)"
      ],
      "metadata": {
        "id": "OpY773wsFEWG"
      },
      "execution_count": null,
      "outputs": []
    },
    {
      "cell_type": "code",
      "source": [
        "def invertir_lista(lista):\n",
        "    return lista[::-1]"
      ],
      "metadata": {
        "id": "ETwI1izfFGZN"
      },
      "execution_count": null,
      "outputs": []
    },
    {
      "cell_type": "code",
      "source": [
        "def contar_nombres_con_vocal(lista_nombres):\n",
        "    vocales = \"aeiou\"\n",
        "    return sum(1 for nombre in lista_nombres if nombre and nombre[0].lower() in vocales)"
      ],
      "metadata": {
        "id": "vLIvRONYFIVG"
      },
      "execution_count": null,
      "outputs": []
    },
    {
      "cell_type": "code",
      "source": [
        "def eliminar_repetidos(lista):\n",
        "    return list(set(lista))"
      ],
      "metadata": {
        "id": "SCeVhzBZKJyC"
      },
      "execution_count": null,
      "outputs": []
    },
    {
      "cell_type": "code",
      "source": [
        "def es_primo(n):\n",
        "    if n < 2:\n",
        "        return False\n",
        "    for i in range(2, int(n**0.5)+1):\n",
        "        if n % i == 0:\n",
        "            return False\n",
        "    return True\n",
        "\n",
        "    def obtener_primos(lista):\n",
        "    return [num for num in lista if es_primo(num)]"
      ],
      "metadata": {
        "id": "XCKTifPrKQNa"
      },
      "execution_count": null,
      "outputs": []
    },
    {
      "cell_type": "code",
      "source": [
        "def mensaje_persona(dic):\n",
        "    nombre = dic.get('nombre', 'Desconocido')\n",
        "    edad = dic.get('edad', 'Desconocida')\n",
        "    return f\"{nombre} tiene {edad} años.\""
      ],
      "metadata": {
        "id": "N07I0Oa5KT1y"
      },
      "execution_count": null,
      "outputs": []
    },
    {
      "cell_type": "code",
      "source": [
        "def total_productos(productos):\n",
        "    return sum(productos.values())"
      ],
      "metadata": {
        "id": "Jw33yfgSKZyS"
      },
      "execution_count": null,
      "outputs": []
    },
    {
      "cell_type": "code",
      "source": [
        "def promedio_notas(estudiantes):\n",
        "    if not estudiantes:\n",
        "        return 0\n",
        "    return sum(estudiantes.values()) / len(estudiantes)"
      ],
      "metadata": {
        "id": "2YD5XIeXKbNi"
      },
      "execution_count": null,
      "outputs": []
    },
    {
      "cell_type": "code",
      "source": [
        "def obtener_nota(dic, nombre):\n",
        "    return dic.get(nombre, 'no encontrado')\n"
      ],
      "metadata": {
        "id": "Sbvj6h-QKdO6"
      },
      "execution_count": null,
      "outputs": []
    },
    {
      "cell_type": "code",
      "source": [
        "def mejor_estudiante(dic):\n",
        "    if not dic:\n",
        "        return None\n",
        "    return max(dic, key=dic.get)"
      ],
      "metadata": {
        "id": "mHVbRM9EKe-K"
      },
      "execution_count": null,
      "outputs": []
    },
    {
      "cell_type": "code",
      "source": [
        "def productos_mayores_a(dic, valor):\n",
        "    return {k: v for k, v in dic.items() if v > valor}"
      ],
      "metadata": {
        "id": "k7o8x6mzKgri"
      },
      "execution_count": null,
      "outputs": []
    },
    {
      "cell_type": "code",
      "source": [
        "def total_horas(dic):\n",
        "    return {empleado: sum(horas) for empleado, horas in dic.items()}\n"
      ],
      "metadata": {
        "id": "Uz5n87sTKiCq"
      },
      "execution_count": null,
      "outputs": []
    },
    {
      "cell_type": "code",
      "source": [
        "def promedio_mayores(dic):\n",
        "    mayores = [datos['nota'] for datos in dic.values() if datos.get('edad', 0) >= 18]\n",
        "    if not mayores:\n",
        "        return 0\n",
        "    return sum(mayores) / len(mayores)"
      ],
      "metadata": {
        "id": "oOERWx2OKkHS"
      },
      "execution_count": null,
      "outputs": []
    }
  ]
}