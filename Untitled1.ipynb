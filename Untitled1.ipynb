{
  "nbformat": 4,
  "nbformat_minor": 0,
  "metadata": {
    "colab": {
      "provenance": [],
      "authorship_tag": "ABX9TyOAZ0OTFB0KK2I2d2mpD+M7",
      "include_colab_link": true
    },
    "kernelspec": {
      "name": "python3",
      "display_name": "Python 3"
    },
    "language_info": {
      "name": "python"
    }
  },
  "cells": [
    {
      "cell_type": "markdown",
      "metadata": {
        "id": "view-in-github",
        "colab_type": "text"
      },
      "source": [
        "<a href=\"https://colab.research.google.com/github/JoseFBG/CIENCIA_DATOS_2025/blob/main/Untitled1.ipynb\" target=\"_parent\"><img src=\"https://colab.research.google.com/assets/colab-badge.svg\" alt=\"Open In Colab\"/></a>"
      ]
    },
    {
      "cell_type": "code",
      "execution_count": 1,
      "metadata": {
        "id": "dp2Jq5lLCPo3"
      },
      "outputs": [],
      "source": [
        "# 1. Retorna el cuadrado de un número\n",
        "def cuadrado(numero):\n",
        "    return numero ** 2"
      ]
    },
    {
      "cell_type": "code",
      "source": [
        "# 2. Saludo personalizado con opción aleatoria\n",
        "def saludo_personalizado(nombre):\n",
        "    saludos = [\n",
        "        \"Hola\", \"La buena\", \"¡Saludos\", \"¡Bienvenido\", \"Que se dice\",\n",
        "        \"Ole\", \"Que se cuenta\", \"Cómo fue\", \"Tonces\", \"Que pasa perro\",\n",
        "        \"Socio\", \"Mucho gusto\", \"Qué tal\", \"Hola crack\", \"Ey\",\n",
        "        \"Buenas tardes\", \"Buenos días\", \"Qué onda\", \"Qué hay\", \"Cómo estás\"\n",
        "    ]\n",
        "    saludo = random.choice(saludos)\n",
        "    return f\"{saludo}, {nombre}!\""
      ],
      "metadata": {
        "id": "3di-qKKTDntw"
      },
      "execution_count": 3,
      "outputs": []
    },
    {
      "cell_type": "code",
      "source": [
        "def operaciones_basicas(a, b):\n",
        "    suma = a + b\n",
        "    resta = a - b\n",
        "    multiplicacion = a * b\n",
        "    division = a / b if b != 0 else \"División por cero no permitida\"\n",
        "    return suma, resta, multiplicacion, division"
      ],
      "metadata": {
        "id": "0cwPKH_vE2_m"
      },
      "execution_count": 4,
      "outputs": []
    },
    {
      "cell_type": "code",
      "source": [
        "def es_mayor_de_edad(edad):\n",
        "    return edad >= 18"
      ],
      "metadata": {
        "id": "rcP5hrFWE8c2"
      },
      "execution_count": 5,
      "outputs": []
    },
    {
      "cell_type": "code",
      "source": [
        "def es_palindromo(palabra):\n",
        "    palabra = palabra.lower().replace(\" \", \"\")\n",
        "    return palabra == palabra[::-1]"
      ],
      "metadata": {
        "id": "pCJvRkUoE_CG"
      },
      "execution_count": 6,
      "outputs": []
    },
    {
      "cell_type": "code",
      "source": [
        "def contar_vocales(texto):\n",
        "    texto = texto.lower()\n",
        "    return sum(1 for letra in texto if letra in \"aeiou\")"
      ],
      "metadata": {
        "id": "I8Pc9-rRE_wO"
      },
      "execution_count": 7,
      "outputs": []
    },
    {
      "cell_type": "code",
      "source": [
        "def suma_lista(numeros):\n",
        "    return sum(numeros)"
      ],
      "metadata": {
        "id": "Cn4wRg19FCY9"
      },
      "execution_count": 8,
      "outputs": []
    },
    {
      "cell_type": "code",
      "source": [
        "def mayor_y_menor(lista):\n",
        "    if not lista:\n",
        "        return None, None\n",
        "    return max(lista), min(lista)"
      ],
      "metadata": {
        "id": "OpY773wsFEWG"
      },
      "execution_count": 9,
      "outputs": []
    },
    {
      "cell_type": "code",
      "source": [
        "def invertir_lista(lista):\n",
        "    return lista[::-1]"
      ],
      "metadata": {
        "id": "ETwI1izfFGZN"
      },
      "execution_count": 10,
      "outputs": []
    },
    {
      "cell_type": "code",
      "source": [
        "def contar_nombres_con_vocal(lista_nombres):\n",
        "    vocales = \"aeiou\"\n",
        "    return sum(1 for nombre in lista_nombres if nombre and nombre[0].lower() in vocales)"
      ],
      "metadata": {
        "id": "vLIvRONYFIVG"
      },
      "execution_count": 11,
      "outputs": []
    }
  ]
}