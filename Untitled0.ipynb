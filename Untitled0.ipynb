{
  "nbformat": 4,
  "nbformat_minor": 0,
  "metadata": {
    "colab": {
      "provenance": [],
      "authorship_tag": "ABX9TyPpvzDZtIHiO8S2RYWa0l0g",
      "include_colab_link": true
    },
    "kernelspec": {
      "name": "python3",
      "display_name": "Python 3"
    },
    "language_info": {
      "name": "python"
    }
  },
  "cells": [
    {
      "cell_type": "markdown",
      "metadata": {
        "id": "view-in-github",
        "colab_type": "text"
      },
      "source": [
        "<a href=\"https://colab.research.google.com/github/JoseFBG/CIENCIA_DATOS_2025/blob/main/Untitled0.ipynb\" target=\"_parent\"><img src=\"https://colab.research.google.com/assets/colab-badge.svg\" alt=\"Open In Colab\"/></a>"
      ]
    },
    {
      "cell_type": "markdown",
      "source": [
        "#Prueba de valoración"
      ],
      "metadata": {
        "id": "oinJ6TgVugq7"
      }
    },
    {
      "cell_type": "markdown",
      "source": [
        "##Estructuras de selección\n",
        "\n",
        "asdffsdf\n",
        "if (condición):\n",
        "si se cumple, aquí suceden cositas\n",
        " else:\n",
        " Si no se cumple, aquí suceden cositas\n"
      ],
      "metadata": {
        "id": "trUamfpju7qk"
      }
    },
    {
      "cell_type": "markdown",
      "source": [
        "###Nivel 3\n"
      ],
      "metadata": {
        "id": "tTLjCcwVvFoL"
      }
    },
    {
      "cell_type": "code",
      "execution_count": null,
      "metadata": {
        "id": "aYeYLaUesYkQ"
      },
      "outputs": [],
      "source": []
    },
    {
      "cell_type": "markdown",
      "source": [],
      "metadata": {
        "id": "Q5KfVqnKslJh"
      }
    },
    {
      "cell_type": "code",
      "source": [],
      "metadata": {
        "id": "LvexiJkNsk5I"
      },
      "execution_count": null,
      "outputs": []
    }
  ]
}