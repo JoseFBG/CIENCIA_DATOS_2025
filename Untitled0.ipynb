{
  "nbformat": 4,
  "nbformat_minor": 0,
  "metadata": {
    "colab": {
      "provenance": [],
      "authorship_tag": "ABX9TyPi2Ar48xHmYemsWYcP+F/7",
      "include_colab_link": true
    },
    "kernelspec": {
      "name": "python3",
      "display_name": "Python 3"
    },
    "language_info": {
      "name": "python"
    }
  },
  "cells": [
    {
      "cell_type": "markdown",
      "metadata": {
        "id": "view-in-github",
        "colab_type": "text"
      },
      "source": [
        "<a href=\"https://colab.research.google.com/github/JoseFBG/CIENCIA_DATOS_2025/blob/main/Untitled0.ipynb\" target=\"_parent\"><img src=\"https://colab.research.google.com/assets/colab-badge.svg\" alt=\"Open In Colab\"/></a>"
      ]
    },
    {
      "cell_type": "markdown",
      "source": [
        "#Prueba de valoración"
      ],
      "metadata": {
        "id": "oinJ6TgVugq7"
      }
    },
    {
      "cell_type": "code",
      "source": [
        "1 #Ejemplo\n",
        "2 #Conocer cu+al es el mayor de los números\n",
        "3 a=int(input(\"ingrese un valor\"))\n",
        "4 b=int(input(\"ingrese otro valor\"))"
      ],
      "metadata": {
        "id": "JXl4wHC02FkB"
      },
      "execution_count": null,
      "outputs": []
    },
    {
      "cell_type": "code",
      "source": [
        "1 if a>b:\n",
        "2 print(f\"{a} es mayor que {b}\")\n",
        "3 else:\n",
        "4 print(f\"{b} es mayor que {a}\")"
      ],
      "metadata": {
        "id": "FEg0BzYe2ttP"
      },
      "execution_count": null,
      "outputs": []
    },
    {
      "cell_type": "code",
      "source": [
        "1 #Operador tenario\n",
        "2 msg=f\"{a} es mayor que {b}\" if a>b else f\"{b} es mayor que {a}\"\n",
        "3 print(msg)\n"
      ],
      "metadata": {
        "id": "hEad9-2O3CTA"
      },
      "execution_count": null,
      "outputs": []
    }
  ]
}