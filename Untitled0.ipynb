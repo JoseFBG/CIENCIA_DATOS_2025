{
  "nbformat": 4,
  "nbformat_minor": 0,
  "metadata": {
    "colab": {
      "provenance": [],
      "authorship_tag": "ABX9TyPtz2Bpj1uxZlQd3+xqHXHv",
      "include_colab_link": true
    },
    "kernelspec": {
      "name": "python3",
      "display_name": "Python 3"
    },
    "language_info": {
      "name": "python"
    }
  },
  "cells": [
    {
      "cell_type": "markdown",
      "metadata": {
        "id": "view-in-github",
        "colab_type": "text"
      },
      "source": [
        "<a href=\"https://colab.research.google.com/github/JoseFBG/CIENCIA_DATOS_2025/blob/main/Untitled0.ipynb\" target=\"_parent\"><img src=\"https://colab.research.google.com/assets/colab-badge.svg\" alt=\"Open In Colab\"/></a>"
      ]
    },
    {
      "cell_type": "markdown",
      "source": [
        "#Prueba de valoración"
      ],
      "metadata": {
        "id": "oinJ6TgVugq7"
      }
    },
    {
      "cell_type": "code",
      "source": [
        "1 #Ejemplo\n",
        "2 #Conocer cu+al es el mayor de los números\n",
        "3 a=int(input(\"ingrese un valor\"))\n",
        "4 b=int(input(\"ingrese otro valor\"))"
      ],
      "metadata": {
        "id": "JXl4wHC02FkB"
      },
      "execution_count": null,
      "outputs": []
    },
    {
      "cell_type": "code",
      "source": [
        "1 if a>b:\n",
        "2 print(f\"{a} es mayor que {b}\")\n",
        "3 else:\n",
        "4 print(f\"{b} es mayor que {a}\")"
      ],
      "metadata": {
        "id": "FEg0BzYe2ttP"
      },
      "execution_count": null,
      "outputs": []
    },
    {
      "cell_type": "code",
      "source": [
        "1 #Operador tenario\n",
        "2 msg=f\"{a} es mayor que {b}\" if a>b else f\"{b} es mayor que {a}\"\n",
        "3 print(msg)\n"
      ],
      "metadata": {
        "id": "hEad9-2O3CTA"
      },
      "execution_count": null,
      "outputs": []
    },
    {
      "cell_type": "markdown",
      "source": [
        "FUNCIONES\n",
        "1. Funcione/métodos\n",
        "2. Funciones anónimas"
      ],
      "metadata": {
        "id": "zhq7R4Ej30RG"
      }
    },
    {
      "cell_type": "markdown",
      "source": [
        "##Funciones\n",
        "Declarando una función\n",
        "\n",
        "def (nombre de_la_función)(parámetros de la función):\n",
        "Adentro va lo que se va a ejecutar\n",
        "1. Sin parámetro, sin retorno\n",
        "2. Sin parámetro; con retorno\n",
        "3. Con parámetro, sin retorno\n",
        "4. Con parámetro, con retorno"
      ],
      "metadata": {
        "id": "IkESmPhc4Ch-"
      }
    },
    {
      "cell_type": "markdown",
      "source": [
        "###1. Sin parámetro, sin retorno\n",
        "Se emplea cuando no se requiere un almacenamiento en una variable local\n",
        "No se requieren parámetro su uso"
      ],
      "metadata": {
        "id": "gR7R2Sm65HB-"
      }
    },
    {
      "cell_type": "code",
      "source": [
        "print(\"hola mundo\")"
      ],
      "metadata": {
        "colab": {
          "base_uri": "https://localhost:8080/"
        },
        "id": "tElVjIUB5O3O",
        "outputId": "04bd09ee-0984-4c5d-af34-c6654da7882f"
      },
      "execution_count": 10,
      "outputs": [
        {
          "output_type": "stream",
          "name": "stdout",
          "text": [
            "hola mundo\n"
          ]
        }
      ]
    },
    {
      "cell_type": "code",
      "source": [
        "def saludo():\n",
        "  print(\"hola mundo\")"
      ],
      "metadata": {
        "id": "qgTWu1tx5UM1"
      },
      "execution_count": 7,
      "outputs": []
    },
    {
      "cell_type": "code",
      "source": [
        "saludo()"
      ],
      "metadata": {
        "colab": {
          "base_uri": "https://localhost:8080/"
        },
        "id": "6QNmEIq55m4m",
        "outputId": "6dabd330-c11e-4225-8931-37164e9124f1"
      },
      "execution_count": 8,
      "outputs": [
        {
          "output_type": "stream",
          "name": "stdout",
          "text": [
            "hola mundo\n"
          ]
        }
      ]
    },
    {
      "cell_type": "code",
      "source": [],
      "metadata": {
        "id": "j_IjQrnr-1HS"
      },
      "execution_count": null,
      "outputs": []
    },
    {
      "cell_type": "markdown",
      "source": [
        "###2. Sin parámetro, con retorno\n",
        "Cuando necesito realizar una operación, convertir variable local en global"
      ],
      "metadata": {
        "id": "X_UUN5tv69-l"
      }
    },
    {
      "cell_type": "code",
      "source": [
        "def numero():\n",
        "  return 4+5\n",
        "\n",
        "  c=numero()\n",
        "  c"
      ],
      "metadata": {
        "id": "oUDIcshT-2zK"
      },
      "execution_count": 19,
      "outputs": []
    },
    {
      "cell_type": "code",
      "source": [
        "def numero2():\n",
        "  d=4+5#variable local"
      ],
      "metadata": {
        "id": "oGKydWJT_iah"
      },
      "execution_count": null,
      "outputs": []
    },
    {
      "cell_type": "code",
      "source": [
        "f=numero2()\n",
        "f"
      ],
      "metadata": {
        "id": "mLiMqNyu_pEx"
      },
      "execution_count": null,
      "outputs": []
    },
    {
      "cell_type": "markdown",
      "source": [
        "####3. Con parámetro, sin retorno\n"
      ],
      "metadata": {
        "id": "W7H3e1b-_q06"
      }
    },
    {
      "cell_type": "code",
      "source": [
        "def cuadrado(a): print(a**2)\n",
        "cuadrado(5)\n",
        ""
      ],
      "metadata": {
        "id": "y4oLieYd_wNK",
        "outputId": "1963163c-56d8-4eca-e53a-3554789b27ad",
        "colab": {
          "base_uri": "https://localhost:8080/"
        }
      },
      "execution_count": 20,
      "outputs": [
        {
          "output_type": "stream",
          "name": "stdout",
          "text": [
            "25\n"
          ]
        }
      ]
    },
    {
      "cell_type": "markdown",
      "source": [
        "4. Con parámetro, con retorno\n"
      ],
      "metadata": {
        "id": "GoxcUZih_0bB"
      }
    },
    {
      "cell_type": "code",
      "source": [
        "def cubo(b): return(b**3)\n",
        "a=cubo(6)\n",
        "a"
      ],
      "metadata": {
        "id": "QdHJVptF_54p",
        "outputId": "9d2f602c-af5c-437d-de5f-efe2ecacdc10",
        "colab": {
          "base_uri": "https://localhost:8080/"
        }
      },
      "execution_count": 18,
      "outputs": [
        {
          "output_type": "execute_result",
          "data": {
            "text/plain": [
              "216"
            ]
          },
          "metadata": {},
          "execution_count": 18
        }
      ]
    },
    {
      "cell_type": "code",
      "source": [
        "def comparar(a,b):\n",
        "  return f\"{a} es mayor que {b}\" if a>b else f\"{b} es mayor que {a}\""
      ],
      "metadata": {
        "id": "NwKRzrWf_7jy"
      },
      "execution_count": 22,
      "outputs": []
    },
    {
      "cell_type": "code",
      "source": [
        "comparar(3,9)"
      ],
      "metadata": {
        "id": "rJvp-TJYAMbR",
        "outputId": "d6277b2b-26ef-412e-e8af-9d8823e15ae8",
        "colab": {
          "base_uri": "https://localhost:8080/",
          "height": 35
        }
      },
      "execution_count": 23,
      "outputs": [
        {
          "output_type": "execute_result",
          "data": {
            "text/plain": [
              "'9 es mayor que 3'"
            ],
            "application/vnd.google.colaboratory.intrinsic+json": {
              "type": "string"
            }
          },
          "metadata": {},
          "execution_count": 23
        }
      ]
    }
  ]
}